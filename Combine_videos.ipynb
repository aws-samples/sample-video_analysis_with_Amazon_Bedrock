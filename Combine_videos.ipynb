{
 "cells": [
  {
   "cell_type": "markdown",
   "id": "382f3423-4848-4140-a54e-2e4c131ee51a",
   "metadata": {},
   "source": [
    "# Combine video files \n",
    "\n",
    "In this notebook we will be combining video files into a single video file. The below code  will combine 3 video files into 1 video in parallel frame aligning timestamp for all three video in parallel"
   ]
  },
  {
   "cell_type": "markdown",
   "id": "0281a004-a0ce-4e5d-bab1-d86cc12f96a2",
   "metadata": {},
   "source": [
    "# Install libraries"
   ]
  },
  {
   "cell_type": "code",
   "execution_count": null,
   "id": "be38e03c-65cb-4913-be2a-049240be86d7",
   "metadata": {},
   "outputs": [],
   "source": [
    "pip install opencv-python numpy"
   ]
  },
  {
   "cell_type": "code",
   "execution_count": null,
   "id": "14f1908b-3fb6-4068-8685-d0817c59c607",
   "metadata": {},
   "outputs": [],
   "source": [
    "pip install opencv-python-headless"
   ]
  },
  {
   "cell_type": "code",
   "execution_count": null,
   "id": "245a8c87-2cfc-45a1-b650-6a721197d338",
   "metadata": {},
   "outputs": [],
   "source": [
    "pip install ffmpeg-python"
   ]
  },
  {
   "cell_type": "code",
   "execution_count": null,
   "id": "cb65ffb5-3c7b-4049-8e00-f97e4ce58d97",
   "metadata": {},
   "outputs": [],
   "source": [
    "import cv2\n",
    "print(cv2.__version__)\n"
   ]
  },
  {
   "cell_type": "markdown",
   "id": "5427ce95-89a6-43ca-907b-344c4f66bf6e",
   "metadata": {},
   "source": [
    "# Initialize the variables"
   ]
  },
  {
   "cell_type": "code",
   "execution_count": null,
   "id": "6910fa95-c8cb-4cc6-928b-b69e5e044a64",
   "metadata": {},
   "outputs": [],
   "source": [
    "video1_path = \"data/video1.mov\"\n",
    "video2_path = \"data/video1.mov\"\n",
    "video3_path = \"data/video1.mov\"\n",
    "output_path = \"data/combined_video.mov\""
   ]
  },
  {
   "cell_type": "markdown",
   "id": "c64b57aa-ce98-4805-951c-30ff67c9ffbf",
   "metadata": {},
   "source": [
    "# Stitch the videos together"
   ]
  },
  {
   "cell_type": "code",
   "execution_count": null,
   "id": "29998760-d5d9-4ff0-b01d-424545e043f8",
   "metadata": {},
   "outputs": [],
   "source": [
    "import cv2\n",
    "import numpy as np\n",
    "import ffmpeg\n",
    "from collections import defaultdict\n",
    "import os\n",
    "import tempfile\n",
    "import shutil\n",
    "\n",
    "def verify_videos(video1, video2, video3):\n",
    "    \"\"\"Verify that the video paths are different and files exist\"\"\"\n",
    "    videos = [video1, video2, video3]\n",
    "    if len(set(videos)) != 3:\n",
    "        raise ValueError(\"All video paths must be different!\")\n",
    "    \n",
    "    for i, video in enumerate(videos, 1):\n",
    "        if not os.path.exists(video):\n",
    "            raise FileNotFoundError(f\"Video {i} not found: {video}\")\n",
    "        \n",
    "    print(\"Video paths verified:\")\n",
    "    for i, video in enumerate(videos, 1):\n",
    "        print(f\"Video {i}: {video}\")\n",
    "    print()\n",
    "\n",
    "def combine_videos_parallel(video1, video2, video3, output_video):\n",
    "    # First verify the videos\n",
    "    verify_videos(video1, video2, video3)\n",
    "    \n",
    "    # Create VideoCapture objects\n",
    "    cap1 = cv2.VideoCapture(video1)\n",
    "    cap2 = cv2.VideoCapture(video2)\n",
    "    cap3 = cv2.VideoCapture(video3)\n",
    "    \n",
    "    # Store video captures in a dictionary\n",
    "    caps = {\n",
    "        1: {'cap': cap1, 'path': video1},\n",
    "        2: {'cap': cap2, 'path': video2},\n",
    "        3: {'cap': cap3, 'path': video3}\n",
    "    }\n",
    "\n",
    "    # Validate that videos opened successfully and print properties\n",
    "    for idx, cap_info in caps.items():\n",
    "        cap = cap_info['cap']\n",
    "        path = cap_info['path']\n",
    "        \n",
    "        if not cap.isOpened():\n",
    "            raise RuntimeError(f\"Error: Cannot open video {idx}: {path}\")\n",
    "        \n",
    "        # Print video properties for debugging\n",
    "        print(f\"Video {idx} properties ({path}):\")\n",
    "        print(f\"Width: {int(cap.get(cv2.CAP_PROP_FRAME_WIDTH))}\")\n",
    "        print(f\"Height: {int(cap.get(cv2.CAP_PROP_FRAME_HEIGHT))}\")\n",
    "        print(f\"FPS: {cap.get(cv2.CAP_PROP_FPS)}\")\n",
    "        print(f\"Frame count: {int(cap.get(cv2.CAP_PROP_FRAME_COUNT))}\\n\")\n",
    "\n",
    "        # Read first frame to verify content\n",
    "        ret, frame = cap.read()\n",
    "        if not ret:\n",
    "            raise RuntimeError(f\"Error: Cannot read frames from video {idx}: {path}\")\n",
    "        # Reset video to start\n",
    "        cap.set(cv2.CAP_PROP_POS_FRAMES, 0)\n",
    "\n",
    "    # Get video properties\n",
    "    width = int(cap1.get(cv2.CAP_PROP_FRAME_WIDTH))\n",
    "    height = int(cap1.get(cv2.CAP_PROP_FRAME_HEIGHT))\n",
    "    fps = min(cap_info['cap'].get(cv2.CAP_PROP_FPS) for cap_info in caps.values())\n",
    "\n",
    "    # Create temporary directory for frames\n",
    "    temp_dir = tempfile.mkdtemp()\n",
    "    frame_count = 0\n",
    "\n",
    "    try:\n",
    "        while True:\n",
    "            # Read frames from each video\n",
    "            frames = {}\n",
    "            all_ended = True\n",
    "            \n",
    "            for idx, cap_info in caps.items():\n",
    "                ret, frame = cap_info['cap'].read()\n",
    "                if ret:\n",
    "                    all_ended = False\n",
    "                    frames[idx] = frame.copy()\n",
    "                    # Add debug text to identify source video\n",
    "                    cv2.putText(frames[idx], f\"Video {idx} - {os.path.basename(cap_info['path'])}\", \n",
    "                              (10, height - 20), cv2.FONT_HERSHEY_SIMPLEX, \n",
    "                              0.7, (0, 255, 0), 2)\n",
    "\n",
    "            if all_ended:\n",
    "                break\n",
    "\n",
    "            if len(frames) == 3:  # We have frames from all videos\n",
    "                # Resize frames to ensure same dimensions\n",
    "                frames = {idx: cv2.resize(frame, (width, height)) \n",
    "                         for idx, frame in frames.items()}\n",
    "\n",
    "                # Combine frames horizontally in correct order\n",
    "                combined_frame = np.hstack([frames[1], frames[2], frames[3]])\n",
    "                \n",
    "                # Save frame\n",
    "                frame_path = os.path.join(temp_dir, f'frame_{frame_count:06d}.png')\n",
    "                cv2.imwrite(frame_path, combined_frame)\n",
    "                frame_count += 1\n",
    "\n",
    "                # Print progress every 100 frames\n",
    "                if frame_count % 100 == 0:\n",
    "                    print(f\"Processed {frame_count} frames...\")\n",
    "\n",
    "        # Release video captures\n",
    "        for cap_info in caps.values():\n",
    "            cap_info['cap'].release()\n",
    "\n",
    "        print(f\"Total frames processed: {frame_count}\")\n",
    "\n",
    "        if frame_count == 0:\n",
    "            raise RuntimeError(\"No frames were processed!\")\n",
    "\n",
    "        # Ensure output directory exists\n",
    "        output_dir = os.path.dirname(os.path.abspath(output_video))\n",
    "        if not os.path.exists(output_dir):\n",
    "            os.makedirs(output_dir)\n",
    "\n",
    "        print(\"Combining frames into video...\")\n",
    "        \n",
    "        # Combine frames into video using ffmpeg\n",
    "        (\n",
    "            ffmpeg\n",
    "            .input(os.path.join(temp_dir, 'frame_%06d.png'), pattern_type='sequence', framerate=fps)\n",
    "            .output(output_video, \n",
    "                   vcodec='prores_ks',\n",
    "                   pix_fmt='yuv422p10le',\n",
    "                   preset='standard',\n",
    "                   **{'profile:v': '3'})\n",
    "            .overwrite_output()\n",
    "            .run(capture_stdout=True, capture_stderr=True)\n",
    "        )\n",
    "\n",
    "        print(f\"Video saved as {output_video}\")\n",
    "\n",
    "    except Exception as e:\n",
    "        print(f\"An error occurred: {str(e)}\")\n",
    "        raise e\n",
    "\n",
    "    finally:\n",
    "        # Clean up temporary directory\n",
    "        print(\"Cleaning up temporary files...\")\n",
    "        shutil.rmtree(temp_dir)\n",
    "\n",
    "# Example usage\n",
    "if __name__ == \"__main__\":\n",
    "    video1_path = \"data/video1.mov\"\n",
    "    video2_path = \"data/video2.mov\"\n",
    "    video3_path = \"data/video3.mov\"  # Make sure this is a different video\n",
    "    output_path = \"data/combined_video.mov\"\n",
    "    \n",
    "    try:\n",
    "        combine_videos_parallel(video1_path, video2_path, video3_path, output_path)\n",
    "    except Exception as e:\n",
    "        print(f\"An error occurred: {str(e)}\")\n"
   ]
  },
  {
   "cell_type": "markdown",
   "id": "1d83a9e8-5eaf-4569-9fc4-3ebce19aed33",
   "metadata": {},
   "source": [
    "# Cleanup \n",
    "\n",
    "Please clean up the resources "
   ]
  },
  {
   "cell_type": "code",
   "execution_count": null,
   "id": "33e6d7ae-eb73-4e1d-8df9-062211e17846",
   "metadata": {},
   "outputs": [],
   "source": []
  }
 ],
 "metadata": {
  "kernelspec": {
   "display_name": "Python 3 (ipykernel)",
   "language": "python",
   "name": "python3"
  },
  "language_info": {
   "codemirror_mode": {
    "name": "ipython",
    "version": 3
   },
   "file_extension": ".py",
   "mimetype": "text/x-python",
   "name": "python",
   "nbconvert_exporter": "python",
   "pygments_lexer": "ipython3",
   "version": "3.10.14"
  }
 },
 "nbformat": 4,
 "nbformat_minor": 5
}
